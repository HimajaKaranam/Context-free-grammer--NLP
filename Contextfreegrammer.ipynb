{
 "cells": [
  {
   "cell_type": "code",
   "execution_count": 1,
   "metadata": {
    "collapsed": true
   },
   "outputs": [],
   "source": [
    "import nltk"
   ]
  },
  {
   "cell_type": "code",
   "execution_count": 2,
   "metadata": {
    "collapsed": true
   },
   "outputs": [],
   "source": [
    "from nltk import *"
   ]
  },
  {
   "cell_type": "code",
   "execution_count": 3,
   "metadata": {
    "collapsed": true
   },
   "outputs": [],
   "source": [
    "grammar = nltk.CFG.fromstring(\"\"\"\n",
    "    S -> NP VP\n",
    "    VP -> VBZ DT J | VBP R | VBD TO NP | VB DT R | VB\n",
    "    R -> RB | RB R J\n",
    "    J -> JJ NP | JJ TO VP\n",
    "    NP -> NNP CC NP | NN | NNS | PRP MD | NNP | NN R | NNP JJ NP\n",
    "    NN -> \"Today\" |\"day\" | \"month\"\n",
    "    NNP -> \"Mary\" | \"France\" | \"Bob\"\n",
    "    NNS -> \"Birds\"\n",
    "    VBZ -> \"is\"\n",
    "    VBP -> \"are\"\n",
    "    VBD -> \"went\"\n",
    "    VB -> \"fly\" | \"say\"\n",
    "    RB -> \"not\" | \"necessarily\" | \"again\"\n",
    "    PRP -> \"You\"\n",
    "    MD -> \"can\"\n",
    "    CC -> \"and\"\n",
    "    JJ -> \"nice\" | \"last\" | \"able\"\n",
    "    DT -> \"a\" | \"that\"\n",
    "    TO -> \"to\"\n",
    "    \"\"\")"
   ]
  },
  {
   "cell_type": "code",
   "execution_count": 4,
   "metadata": {
    "collapsed": true
   },
   "outputs": [],
   "source": [
    "rd_parser = nltk.RecursiveDescentParser(grammar)"
   ]
  },
  {
   "cell_type": "code",
   "execution_count": 5,
   "metadata": {
    "collapsed": true
   },
   "outputs": [],
   "source": [
    "senttext= \"Today is a nice day\""
   ]
  },
  {
   "cell_type": "code",
   "execution_count": 6,
   "metadata": {
    "collapsed": true
   },
   "outputs": [],
   "source": [
    "senttext1= \"Bob and Mary went to France last month again\""
   ]
  },
  {
   "cell_type": "code",
   "execution_count": 7,
   "metadata": {
    "collapsed": true
   },
   "outputs": [],
   "source": [
    "senttext2= \"You can say that again\""
   ]
  },
  {
   "cell_type": "code",
   "execution_count": 8,
   "metadata": {
    "collapsed": true
   },
   "outputs": [],
   "source": [
    "senttext3= \"Birds are not necessarily able to fly\""
   ]
  },
  {
   "cell_type": "code",
   "execution_count": 9,
   "metadata": {
    "collapsed": true
   },
   "outputs": [],
   "source": [
    "senttext4= \"Birds fly\""
   ]
  },
  {
   "cell_type": "code",
   "execution_count": 10,
   "metadata": {
    "collapsed": true
   },
   "outputs": [],
   "source": [
    "senttext5 =\"Birds went to France\""
   ]
  },
  {
   "cell_type": "code",
   "execution_count": 11,
   "metadata": {
    "collapsed": true
   },
   "outputs": [],
   "source": [
    "senttext6 = \"You can is that last day\""
   ]
  },
  {
   "cell_type": "code",
   "execution_count": 12,
   "metadata": {
    "collapsed": true
   },
   "outputs": [],
   "source": [
    "sentlist = senttext.split()\n",
    "trees = rd_parser.parse(sentlist)"
   ]
  },
  {
   "cell_type": "code",
   "execution_count": 13,
   "metadata": {
    "collapsed": true
   },
   "outputs": [],
   "source": [
    "sentlist1 = senttext1.split()\n",
    "trees1 = rd_parser.parse(sentlist1)"
   ]
  },
  {
   "cell_type": "code",
   "execution_count": 14,
   "metadata": {
    "collapsed": true
   },
   "outputs": [],
   "source": [
    "sentlist2 = senttext2.split()\n",
    "trees2 = rd_parser.parse(sentlist2)"
   ]
  },
  {
   "cell_type": "code",
   "execution_count": 15,
   "metadata": {
    "collapsed": true
   },
   "outputs": [],
   "source": [
    "sentlist3 = senttext3.split()\n",
    "trees3 = rd_parser.parse(sentlist3)"
   ]
  },
  {
   "cell_type": "code",
   "execution_count": 16,
   "metadata": {
    "collapsed": true
   },
   "outputs": [],
   "source": [
    "sentlist4 = senttext4.split()\n",
    "trees4 = rd_parser.parse(sentlist4)"
   ]
  },
  {
   "cell_type": "code",
   "execution_count": 17,
   "metadata": {
    "collapsed": true
   },
   "outputs": [],
   "source": [
    "sentlist5 = senttext5.split()\n",
    "trees5 = rd_parser.parse(sentlist5)"
   ]
  },
  {
   "cell_type": "code",
   "execution_count": 18,
   "metadata": {
    "collapsed": true
   },
   "outputs": [],
   "source": [
    "sentlist6 = senttext6.split()\n",
    "trees6 = rd_parser.parse(sentlist6)"
   ]
  },
  {
   "cell_type": "code",
   "execution_count": 19,
   "metadata": {
    "collapsed": true
   },
   "outputs": [],
   "source": [
    "treelist = list(trees)"
   ]
  },
  {
   "cell_type": "code",
   "execution_count": 20,
   "metadata": {},
   "outputs": [
    {
     "name": "stdout",
     "output_type": "stream",
     "text": [
      "(S (NP (NN Today)) (VP (VBZ is) (DT a) (J (JJ nice) (NP (NN day)))))\n"
     ]
    }
   ],
   "source": [
    "for tree in treelist:\n",
    "    print (tree)"
   ]
  },
  {
   "cell_type": "code",
   "execution_count": 21,
   "metadata": {
    "collapsed": true
   },
   "outputs": [],
   "source": [
    "treelist1 = list(trees1)"
   ]
  },
  {
   "cell_type": "code",
   "execution_count": 22,
   "metadata": {},
   "outputs": [
    {
     "name": "stdout",
     "output_type": "stream",
     "text": [
      "(S\n",
      "  (NP (NNP Bob) (CC and) (NP (NNP Mary)))\n",
      "  (VP\n",
      "    (VBD went)\n",
      "    (TO to)\n",
      "    (NP (NNP France) (JJ last) (NP (NN month) (R (RB again))))))\n"
     ]
    }
   ],
   "source": [
    "for tree in treelist1:\n",
    "    print (tree)"
   ]
  },
  {
   "cell_type": "code",
   "execution_count": 23,
   "metadata": {
    "collapsed": true
   },
   "outputs": [],
   "source": [
    "treelist2 = list(trees2)"
   ]
  },
  {
   "cell_type": "code",
   "execution_count": 24,
   "metadata": {},
   "outputs": [
    {
     "name": "stdout",
     "output_type": "stream",
     "text": [
      "(S (NP (PRP You) (MD can)) (VP (VB say) (DT that) (R (RB again))))\n"
     ]
    }
   ],
   "source": [
    "for tree in treelist2:\n",
    "    print (tree)"
   ]
  },
  {
   "cell_type": "code",
   "execution_count": 25,
   "metadata": {
    "collapsed": true
   },
   "outputs": [],
   "source": [
    "treelist3 = list(trees3)"
   ]
  },
  {
   "cell_type": "code",
   "execution_count": 26,
   "metadata": {},
   "outputs": [
    {
     "name": "stdout",
     "output_type": "stream",
     "text": [
      "(S\n",
      "  (NP (NNS Birds))\n",
      "  (VP\n",
      "    (VBP are)\n",
      "    (R\n",
      "      (RB not)\n",
      "      (R (RB necessarily))\n",
      "      (J (JJ able) (TO to) (VP (VB fly))))))\n"
     ]
    }
   ],
   "source": [
    "for tree in treelist3:\n",
    "    print (tree)"
   ]
  },
  {
   "cell_type": "code",
   "execution_count": 27,
   "metadata": {
    "collapsed": true
   },
   "outputs": [],
   "source": [
    "treelist4 = list(trees4)"
   ]
  },
  {
   "cell_type": "code",
   "execution_count": 28,
   "metadata": {},
   "outputs": [
    {
     "name": "stdout",
     "output_type": "stream",
     "text": [
      "(S (NP (NNS Birds)) (VP (VB fly)))\n"
     ]
    }
   ],
   "source": [
    "for tree in treelist4:\n",
    "    print(tree)"
   ]
  },
  {
   "cell_type": "code",
   "execution_count": 29,
   "metadata": {
    "collapsed": true
   },
   "outputs": [],
   "source": [
    "treelist5 = list(trees5)"
   ]
  },
  {
   "cell_type": "code",
   "execution_count": 30,
   "metadata": {},
   "outputs": [
    {
     "name": "stdout",
     "output_type": "stream",
     "text": [
      "(S (NP (NNS Birds)) (VP (VBD went) (TO to) (NP (NNP France))))\n"
     ]
    }
   ],
   "source": [
    "for tree in treelist5:\n",
    "    print(tree)"
   ]
  },
  {
   "cell_type": "code",
   "execution_count": 31,
   "metadata": {
    "collapsed": true
   },
   "outputs": [],
   "source": [
    "treelist6 = list(trees6)"
   ]
  },
  {
   "cell_type": "code",
   "execution_count": 32,
   "metadata": {},
   "outputs": [
    {
     "name": "stdout",
     "output_type": "stream",
     "text": [
      "(S\n",
      "  (NP (PRP You) (MD can))\n",
      "  (VP (VBZ is) (DT that) (J (JJ last) (NP (NN day)))))\n"
     ]
    }
   ],
   "source": [
    "for tree in treelist6:\n",
    "    print(tree)"
   ]
  },
  {
   "cell_type": "code",
   "execution_count": 62,
   "metadata": {
    "collapsed": true
   },
   "outputs": [],
   "source": [
    "prob_grammar = nltk.PCFG.fromstring(\"\"\"\n",
    "    S -> NP VP [1.0]\n",
    "    VP -> VBZ DT J [0.2] | VBP R [0.2] | VBD TO NP [0.2] | VB DT R [0.2] | VB [0.2]\n",
    "    R -> RB [0.67] | RB R J [0.33]\n",
    "    J -> JJ NP [0.67] | JJ TO VP [0.33]\n",
    "    NP -> NNP CC NP [0.15] | NN [0.15] | NNS [0.15] | PRP MD [0.15] | NNP [0.15] | NN R [0.15] | NNP JJ NP [0.1]\n",
    "    NN -> \"Today\" [0.3] |\"day\" [0.3] | \"month\" [0.4]\n",
    "    NNP -> \"Mary\" [0.3] | \"France\" [0.3] | \"Bob\" [0.4]\n",
    "    NNS -> \"Birds\" [1.0]\n",
    "    VBZ -> \"is\" [1.0]\n",
    "    VBP -> \"are\" [1.0]\n",
    "    VBD -> \"went\" [1.0]\n",
    "    VB -> \"fly\" [0.5] | \"say\" [0.5]\n",
    "    RB -> \"not\" [0.3] | \"necessarily\" [0.3] | \"again\" [0.4]\n",
    "    PRP -> \"You\" [1.0]\n",
    "    MD -> \"can\" [1.0]\n",
    "    CC -> \"and\" [1.0]\n",
    "    JJ -> \"nice\" [0.2] | \"last\" [0.4] | \"able\" [0.4]\n",
    "    DT -> \"a\" [0.5] | \"that\" [0.5]\n",
    "    TO -> \"to\" [1.0]\n",
    "    \"\"\")"
   ]
  },
  {
   "cell_type": "code",
   "execution_count": 63,
   "metadata": {
    "collapsed": true
   },
   "outputs": [],
   "source": [
    "viterbi_parser = nltk.ViterbiParser(prob_grammar)"
   ]
  },
  {
   "cell_type": "code",
   "execution_count": 64,
   "metadata": {
    "collapsed": true
   },
   "outputs": [],
   "source": [
    "probsentlist = senttext.split()\n",
    "probtrees = viterbi_parser.parse(probsentlist)"
   ]
  },
  {
   "cell_type": "code",
   "execution_count": 65,
   "metadata": {
    "collapsed": true
   },
   "outputs": [],
   "source": [
    "probsentlist1 = senttext1.split()\n",
    "probtrees1 = viterbi_parser.parse(probsentlist1)"
   ]
  },
  {
   "cell_type": "code",
   "execution_count": 66,
   "metadata": {
    "collapsed": true
   },
   "outputs": [],
   "source": [
    "probsentlist2 = senttext2.split()\n",
    "probtrees2 = viterbi_parser.parse(probsentlist2)"
   ]
  },
  {
   "cell_type": "code",
   "execution_count": 67,
   "metadata": {
    "collapsed": true
   },
   "outputs": [],
   "source": [
    "probtreelist = list(probtrees)"
   ]
  },
  {
   "cell_type": "code",
   "execution_count": 68,
   "metadata": {},
   "outputs": [
    {
     "name": "stdout",
     "output_type": "stream",
     "text": [
      "(S\n",
      "  (NP (NN Today))\n",
      "  (VP (VBZ is) (DT a) (J (JJ nice) (NP (NN day))))) (p=2.7135e-05)\n"
     ]
    }
   ],
   "source": [
    "for tree in probtreelist:\n",
    "    print (tree)"
   ]
  },
  {
   "cell_type": "code",
   "execution_count": 69,
   "metadata": {
    "collapsed": true
   },
   "outputs": [],
   "source": [
    "probtreelist1 = list(probtrees1)"
   ]
  },
  {
   "cell_type": "code",
   "execution_count": 70,
   "metadata": {},
   "outputs": [
    {
     "name": "stdout",
     "output_type": "stream",
     "text": [
      "(S\n",
      "  (NP (NNP Bob) (CC and) (NP (NNP Mary)))\n",
      "  (VP\n",
      "    (VBD went)\n",
      "    (TO to)\n",
      "    (NP\n",
      "      (NNP France)\n",
      "      (JJ last)\n",
      "      (NP (NN month) (R (RB again)))))) (p=1.04198e-07)\n"
     ]
    }
   ],
   "source": [
    "for tree in probtreelist1:\n",
    "    print (tree)"
   ]
  },
  {
   "cell_type": "code",
   "execution_count": 71,
   "metadata": {
    "collapsed": true
   },
   "outputs": [],
   "source": [
    "probtreelist2 = list(probtrees2)"
   ]
  },
  {
   "cell_type": "code",
   "execution_count": 72,
   "metadata": {},
   "outputs": [
    {
     "name": "stdout",
     "output_type": "stream",
     "text": [
      "(S\n",
      "  (NP (PRP You) (MD can))\n",
      "  (VP (VB say) (DT that) (R (RB again)))) (p=0.00201)\n"
     ]
    }
   ],
   "source": [
    "for tree in probtreelist2:\n",
    "    print (tree)"
   ]
  },
  {
   "cell_type": "code",
   "execution_count": 73,
   "metadata": {
    "collapsed": true
   },
   "outputs": [],
   "source": [
    "probsentlist3 = senttext3.split()\n",
    "probtrees3 = viterbi_parser.parse(probsentlist3)"
   ]
  },
  {
   "cell_type": "code",
   "execution_count": 74,
   "metadata": {
    "collapsed": true
   },
   "outputs": [],
   "source": [
    "probtreelist3 = list(probtrees3)"
   ]
  },
  {
   "cell_type": "code",
   "execution_count": 75,
   "metadata": {},
   "outputs": [
    {
     "name": "stdout",
     "output_type": "stream",
     "text": [
      "(S\n",
      "  (NP (NNS Birds))\n",
      "  (VP\n",
      "    (VBP are)\n",
      "    (R\n",
      "      (RB not)\n",
      "      (R (RB necessarily))\n",
      "      (J (JJ able) (TO to) (VP (VB fly)))))) (p=7.88e-06)\n"
     ]
    }
   ],
   "source": [
    "for tree in probtreelist3:\n",
    "    print (tree)"
   ]
  },
  {
   "cell_type": "code",
   "execution_count": null,
   "metadata": {
    "collapsed": true
   },
   "outputs": [],
   "source": []
  }
 ],
 "metadata": {
  "kernelspec": {
   "display_name": "Python 3",
   "language": "python",
   "name": "python3"
  },
  "language_info": {
   "codemirror_mode": {
    "name": "ipython",
    "version": 3
   },
   "file_extension": ".py",
   "mimetype": "text/x-python",
   "name": "python",
   "nbconvert_exporter": "python",
   "pygments_lexer": "ipython3",
   "version": "3.6.3"
  }
 },
 "nbformat": 4,
 "nbformat_minor": 2
}
